{
 "cells": [
  {
   "cell_type": "code",
   "execution_count": null,
   "metadata": {},
   "outputs": [],
   "source": [
    "!pip3 install torch torchvision torchaudio"
   ]
  },
  {
   "cell_type": "code",
   "execution_count": 35,
   "metadata": {},
   "outputs": [],
   "source": [
    "import numpy as np\n",
    "import torch\n",
    "from datetime import datetime, timedelta\n",
    "from torch.nn import Linear, ModuleList, Parameter\n",
    "from dyrep_node_Hawkes import DyRepNode\n",
    "from earthquake_data_loader import EarthquakeDataset\n",
    "from torch.utils.data import DataLoader\n",
    "from train_eval_main_node import get_return_time\n",
    "import copy\n",
    "rnd = np.random.RandomState(42)\n",
    "import importlib\n",
    "import dyrep_node_Hawkes"
   ]
  },
  {
   "cell_type": "code",
   "execution_count": 73,
   "metadata": {},
   "outputs": [],
   "source": [
    "# dyrep_node_Hawkes 모듈을 다시 로드합니다.\n",
    "importlib.reload(dyrep_node_Hawkes)\n",
    "from dyrep_node_Hawkes import DyRepNode\n",
    "model= DyRepNode(num_nodes= 100,\n",
    "                  hidden_dim= 4,\n",
    "                  random_state= rnd, \n",
    "                  first_date=1, \n",
    "                  end_datetime=1, \n",
    "                  num_neg_samples= 2, \n",
    "                  num_time_samples = 5,\n",
    "                 device= 'mps', all_comms=False, train_td_max=None)\n"
   ]
  },
  {
   "cell_type": "code",
   "execution_count": 74,
   "metadata": {},
   "outputs": [
    {
     "name": "stdout",
     "output_type": "stream",
     "text": [
      "\n",
      "A_initial 3478.0\n"
     ]
    },
    {
     "data": {
      "text/plain": [
       "DyRepNode(\n",
       "  (omega): Linear(in_features=4, out_features=1, bias=True)\n",
       "  (W_h): Linear(in_features=4, out_features=4, bias=True)\n",
       "  (W_event_to_neigh): Linear(in_features=4, out_features=4, bias=True)\n",
       "  (W_rec_event): Linear(in_features=4, out_features=4, bias=True)\n",
       "  (W_rec_neigh): Linear(in_features=4, out_features=4, bias=True)\n",
       "  (W_t): Linear(in_features=4, out_features=4, bias=True)\n",
       ")"
      ]
     },
     "execution_count": 74,
     "metadata": {},
     "output_type": "execute_result"
    }
   ],
   "source": [
    "node_degree=np.zeros((100, 1))\n",
    "node_embeddings_initial= np.tile([0,0,0,0], (100, 1))\n",
    "train_data = EarthquakeDataset(\"train\")\n",
    "time_bar_initial = np.zeros((100, 1)) + train_data.FIRST_DATE.timestamp()\n",
    "time_bar = copy.deepcopy(time_bar_initial)\n",
    "train_loader = DataLoader(train_data,batch_size=1, shuffle=False)\n",
    "A=train_data.get_Adjacency()\n",
    "time_bar_initial = np.zeros((train_data.N_nodes, 1)) + train_data.FIRST_DATE.timestamp()\n",
    "node_degree = np.sum(A, axis=0)\n",
    "model.reset_state(node_embeddings_initial=np.tile([0,0,0,0], (100, 1)),\n",
    "                    A_initial=A,\n",
    "                    node_degree_initial=node_degree,\n",
    "                    time_bar=time_bar)\n",
    "model.train()"
   ]
  },
  {
   "cell_type": "code",
   "execution_count": 12,
   "metadata": {},
   "outputs": [
    {
     "ename": "NameError",
     "evalue": "name 'get_return_time' is not defined",
     "output_type": "error",
     "traceback": [
      "\u001b[0;31m---------------------------------------------------------------------------\u001b[0m",
      "\u001b[0;31mNameError\u001b[0m                                 Traceback (most recent call last)",
      "\u001b[0;32m<ipython-input-12-02e793956c64>\u001b[0m in \u001b[0;36m<module>\u001b[0;34m\u001b[0m\n\u001b[0;32m----> 1\u001b[0;31m \u001b[0mget_return_time\u001b[0m\u001b[0;34m(\u001b[0m\u001b[0mtest_set\u001b[0m\u001b[0;34m)\u001b[0m\u001b[0;34m\u001b[0m\u001b[0;34m\u001b[0m\u001b[0m\n\u001b[0m",
      "\u001b[0;31mNameError\u001b[0m: name 'get_return_time' is not defined"
     ]
    }
   ],
   "source": [
    "get_return_time(train_set)"
   ]
  },
  {
   "cell_type": "code",
   "execution_count": 6,
   "metadata": {},
   "outputs": [
    {
     "ename": "NameError",
     "evalue": "name 'model' is not defined",
     "output_type": "error",
     "traceback": [
      "\u001b[0;31m---------------------------------------------------------------------------\u001b[0m",
      "\u001b[0;31mNameError\u001b[0m                                 Traceback (most recent call last)",
      "\u001b[0;32m<ipython-input-6-f92b7bafe173>\u001b[0m in \u001b[0;36m<module>\u001b[0;34m\u001b[0m\n\u001b[0;32m----> 1\u001b[0;31m \u001b[0mmodel\u001b[0m\u001b[0;34m.\u001b[0m\u001b[0mupdate_node_embedding_without_attention\u001b[0m\u001b[0;34m(\u001b[0m\u001b[0mprev_embedding\u001b[0m\u001b[0;34m,\u001b[0m \u001b[0mu_event\u001b[0m\u001b[0;34m=\u001b[0m\u001b[0mu_event\u001b[0m\u001b[0;34m,\u001b[0m \u001b[0mu_neighborhood\u001b[0m\u001b[0;34m=\u001b[0m\u001b[0mu_neighborhood\u001b[0m\u001b[0;34m,\u001b[0m \u001b[0mtime_delta_it\u001b[0m\u001b[0;34m=\u001b[0m\u001b[0mtime_delta_it\u001b[0m\u001b[0;34m)\u001b[0m\u001b[0;34m\u001b[0m\u001b[0;34m\u001b[0m\u001b[0m\n\u001b[0m",
      "\u001b[0;31mNameError\u001b[0m: name 'model' is not defined"
     ]
    }
   ],
   "source": [
    "model.update_node_embedding_without_attention(prev_embedding, u_event=u_event, u_neighborhood=u_neighborhood, time_delta_it=time_delta_it)"
   ]
  }
 ],
 "metadata": {
  "kernelspec": {
   "display_name": "Python 3",
   "language": "python",
   "name": "python3"
  },
  "language_info": {
   "codemirror_mode": {
    "name": "ipython",
    "version": 3
   },
   "file_extension": ".py",
   "mimetype": "text/x-python",
   "name": "python",
   "nbconvert_exporter": "python",
   "pygments_lexer": "ipython3",
   "version": "3.7.4"
  }
 },
 "nbformat": 4,
 "nbformat_minor": 2
}
