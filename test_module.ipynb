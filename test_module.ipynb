{
 "cells": [
  {
   "cell_type": "code",
   "execution_count": 4,
   "metadata": {},
   "outputs": [],
   "source": [
    "import numpy as np\n",
    "import torch\n",
    "from datetime import datetime, timedelta\n",
    "from torch.nn import Linear, ModuleList, Parameter"
   ]
  },
  {
   "cell_type": "code",
   "execution_count": 127,
   "metadata": {},
   "outputs": [],
   "source": [
    "class DyRepNode(torch.nn.Module):\n",
    "    def __init__(self, num_nodes, hidden_dim, random_state, first_date, end_datetime, num_neg_samples= 5, num_time_samples = 10,\n",
    "                 device='cpu', all_comms=False, train_td_max=None):\n",
    "        super(DyRepNode, self).__init__()\n",
    "        self.w_t = Parameter(0.5*torch.ones(1))\n",
    "        self.alpha = Parameter(0.5*torch.ones(1))\n",
    "        self.psi = Parameter(0.5*torch.ones(1))\n",
    "        self.omega = Linear(in_features=hidden_dim, out_features=1)\n",
    "        \n",
    "\n",
    "        self.W_h = Linear(in_features=hidden_dim, out_features=hidden_dim)\n",
    "        self.W_event_to_neigh = Linear(in_features=hidden_dim, out_features=hidden_dim)\n",
    "        self.W_rec_event = Linear(in_features=hidden_dim, out_features=hidden_dim)\n",
    "        self.W_rec_neigh = Linear(in_features=hidden_dim, out_features=hidden_dim)\n",
    "        self.W_t = Linear(1,hidden_dim)\n",
    "\n",
    "    def forward(self, data):\n",
    "        u, time_delta, time_bar, time_cur,significance,magnitudo = data[:6]\n",
    "\n",
    "        batch_size = len(u)\n",
    "        u_all = u.data.cpu().numpy()\n",
    "        \n",
    "        # testing일때, A_pred, surv를 초기화 세팅\n",
    "        if not self.training:\n",
    "            A_pred, surv, lambda_pred = None, None, None\n",
    "            A_pred = self.A.new_zeros((batch_size, self.num_nodes, self.num_nodes))\n",
    "            surv = self.A.new_zeros((batch_size, self.num_nodes, self.num_nodes))\n",
    "\n",
    "        # *** time의 shape 알고 수정 필요\n",
    "        # *** time을 normalize할 바에, fixed encoding을 하는 방식을 어떨까?\n",
    "        time_mean = torch.from_numpy(np.array([0, 0, 0, 0])).float().to(self.device).view(1, 1, 4)\n",
    "        time_sd = torch.from_numpy(np.array([50, 7, 15, 15])).float().to(self.device).view(1, 1, 4)\n",
    "        time_diff = (time_diff - time_mean) / time_sd\n",
    "        return time_diff\n",
    "    def update_node_embedding_without_attention(self, prev_embedding, u_event,u_neighborhood, time_delta_it):\n",
    "        \"\"\"\n",
    "        주어진 node embedding과 시간 차이를 사용하여 node embedding을 업데이트합니다.\n",
    "\n",
    "        Args:\n",
    "        prev_embedding (torch.Tensor): 이전 embedding (shape: [num_nodes, hidden_dim])\n",
    "        u_event: event가 발생한 노드\n",
    "        u_neighborhood: event가 발생 노드의 이웃\n",
    "        time_delta_it (torch.Tensor): 시간 차이 (shape: [batch_size, 1])\n",
    "\n",
    "        Returns:\n",
    "        torch.Tensor: 업데이트된 node embedding\n",
    "        \"\"\"\n",
    "        # *** attention 사용하지 않은 버전\n",
    "\n",
    "        # 이전 embedding을 복제하여 새로운 embedding 생성\n",
    "        z_new = prev_embedding.clone()\n",
    "\n",
    "        #neighborhood node에 대한 업데이트\n",
    "        z_new[u_neighborhood] = torch.sigmoid(self.W_event_to_neigh(prev_embedding[u_event]) + \\\n",
    "                                  self.W_rec_neigh(prev_embedding[u_neighborhood]) + \\\n",
    "                                  self.W_t(time_delta_it[u_neighborhood].view(len(u_neighborhood),3)))\n",
    "        \n",
    "        #event node에 대한 update \n",
    "        z_new[u_event] = torch.sigmoid(self.W_rec_event(prev_embedding[u_event]) + \\\n",
    "                                  self.W_t(time_delta_it[u_event]))\n",
    "        return z_new"
   ]
  },
  {
   "cell_type": "code",
   "execution_count": 128,
   "metadata": {},
   "outputs": [],
   "source": [
    "rnd = np.random.RandomState(42)\n",
    "model = DyRepNode(num_nodes=4,\n",
    "                  hidden_dim=2,\n",
    "                  random_state= rnd,\n",
    "                  first_date=1,\n",
    "                  end_datetime=10,\n",
    "                  num_neg_samples=10,\n",
    "                  num_time_samples=5,\n",
    "                  device='cpu',\n",
    "                  train_td_max=5)\n"
   ]
  },
  {
   "cell_type": "code",
   "execution_count": 129,
   "metadata": {},
   "outputs": [
    {
     "name": "stdout",
     "output_type": "stream",
     "text": [
      "w_t torch.Size([1]) tensor([0.5000])\n",
      "alpha torch.Size([1]) tensor([0.5000])\n",
      "psi torch.Size([1]) tensor([0.5000])\n",
      "omega.weight torch.Size([1, 2]) tensor([[-0.5500, -0.6468]])\n",
      "omega.bias torch.Size([1]) tensor([-0.4260])\n",
      "W_h.weight torch.Size([2, 2]) tensor([[-0.0780,  0.5686],\n",
      "        [-0.6080,  0.2216]])\n",
      "W_h.bias torch.Size([2]) tensor([0.0022, 0.4817])\n",
      "W_event_to_neigh.weight torch.Size([2, 2]) tensor([[-0.1437,  0.2169],\n",
      "        [ 0.1113,  0.0093]])\n",
      "W_event_to_neigh.bias torch.Size([2]) tensor([0.1255, 0.5880])\n",
      "W_rec_event.weight torch.Size([2, 2]) tensor([[-0.2672, -0.6409],\n",
      "        [ 0.4996, -0.2756]])\n",
      "W_rec_event.bias torch.Size([2]) tensor([0.6108, 0.2024])\n",
      "W_rec_neigh.weight torch.Size([2, 2]) tensor([[ 0.0626, -0.2621],\n",
      "        [-0.4605, -0.6585]])\n",
      "W_rec_neigh.bias torch.Size([2]) tensor([0.6138, 0.6745])\n",
      "W_t.weight torch.Size([2, 1]) tensor([[ 0.0634],\n",
      "        [-0.6298]])\n",
      "W_t.bias torch.Size([2]) tensor([-0.7038, -0.1371])\n"
     ]
    }
   ],
   "source": [
    "for name, param in model.named_parameters():\n",
    "    print(name,param.shape,param.data)"
   ]
  },
  {
   "cell_type": "code",
   "execution_count": 131,
   "metadata": {},
   "outputs": [],
   "source": [
    "prev_embedding = [[1,1],[2,2],[3,3],[4,4]]\n",
    "prev_embedding=torch.Tensor(prev_embedding)\n",
    "time_delta_it =torch.Tensor([[2,3,1],[2,3,1],[2,3,1],[2,3,1]])\n",
    "u_neighborhood = [1,2]\n",
    "u_event = 0"
   ]
  },
  {
   "cell_type": "code",
   "execution_count": 132,
   "metadata": {},
   "outputs": [
    {
     "ename": "RuntimeError",
     "evalue": "mat1 and mat2 shapes cannot be multiplied (2x3 and 1x2)",
     "output_type": "error",
     "traceback": [
      "\u001b[0;31m---------------------------------------------------------------------------\u001b[0m",
      "\u001b[0;31mRuntimeError\u001b[0m                              Traceback (most recent call last)",
      "\u001b[0;32m<ipython-input-132-f92b7bafe173>\u001b[0m in \u001b[0;36m<module>\u001b[0;34m\u001b[0m\n\u001b[0;32m----> 1\u001b[0;31m \u001b[0mmodel\u001b[0m\u001b[0;34m.\u001b[0m\u001b[0mupdate_node_embedding_without_attention\u001b[0m\u001b[0;34m(\u001b[0m\u001b[0mprev_embedding\u001b[0m\u001b[0;34m,\u001b[0m \u001b[0mu_event\u001b[0m\u001b[0;34m=\u001b[0m\u001b[0mu_event\u001b[0m\u001b[0;34m,\u001b[0m \u001b[0mu_neighborhood\u001b[0m\u001b[0;34m=\u001b[0m\u001b[0mu_neighborhood\u001b[0m\u001b[0;34m,\u001b[0m \u001b[0mtime_delta_it\u001b[0m\u001b[0;34m=\u001b[0m\u001b[0mtime_delta_it\u001b[0m\u001b[0;34m)\u001b[0m\u001b[0;34m\u001b[0m\u001b[0;34m\u001b[0m\u001b[0m\n\u001b[0m",
      "\u001b[0;32m<ipython-input-127-ed7cd46a02cc>\u001b[0m in \u001b[0;36mupdate_node_embedding_without_attention\u001b[0;34m(self, prev_embedding, u_event, u_neighborhood, time_delta_it)\u001b[0m\n\u001b[1;32m     54\u001b[0m         z_new[u_neighborhood] = torch.sigmoid(self.W_event_to_neigh(prev_embedding[u_event]) + \\\n\u001b[1;32m     55\u001b[0m                                   \u001b[0mself\u001b[0m\u001b[0;34m.\u001b[0m\u001b[0mW_rec_neigh\u001b[0m\u001b[0;34m(\u001b[0m\u001b[0mprev_embedding\u001b[0m\u001b[0;34m[\u001b[0m\u001b[0mu_neighborhood\u001b[0m\u001b[0;34m]\u001b[0m\u001b[0;34m)\u001b[0m \u001b[0;34m+\u001b[0m\u001b[0;31m \u001b[0m\u001b[0;31m\\\u001b[0m\u001b[0;34m\u001b[0m\u001b[0;34m\u001b[0m\u001b[0m\n\u001b[0;32m---> 56\u001b[0;31m                                   self.W_t(time_delta_it[u_neighborhood].view(len(u_neighborhood),3)))\n\u001b[0m\u001b[1;32m     57\u001b[0m \u001b[0;34m\u001b[0m\u001b[0m\n\u001b[1;32m     58\u001b[0m         \u001b[0;31m#event node에 대한 update\u001b[0m\u001b[0;34m\u001b[0m\u001b[0;34m\u001b[0m\u001b[0;34m\u001b[0m\u001b[0m\n",
      "\u001b[0;32m~/Library/Python/3.7/lib/python/site-packages/torch/nn/modules/module.py\u001b[0m in \u001b[0;36m_call_impl\u001b[0;34m(self, *input, **kwargs)\u001b[0m\n\u001b[1;32m   1192\u001b[0m         if not (self._backward_hooks or self._forward_hooks or self._forward_pre_hooks or _global_backward_hooks\n\u001b[1;32m   1193\u001b[0m                 or _global_forward_hooks or _global_forward_pre_hooks):\n\u001b[0;32m-> 1194\u001b[0;31m             \u001b[0;32mreturn\u001b[0m \u001b[0mforward_call\u001b[0m\u001b[0;34m(\u001b[0m\u001b[0;34m*\u001b[0m\u001b[0minput\u001b[0m\u001b[0;34m,\u001b[0m \u001b[0;34m**\u001b[0m\u001b[0mkwargs\u001b[0m\u001b[0;34m)\u001b[0m\u001b[0;34m\u001b[0m\u001b[0;34m\u001b[0m\u001b[0m\n\u001b[0m\u001b[1;32m   1195\u001b[0m         \u001b[0;31m# Do not call functions when jit is used\u001b[0m\u001b[0;34m\u001b[0m\u001b[0;34m\u001b[0m\u001b[0;34m\u001b[0m\u001b[0m\n\u001b[1;32m   1196\u001b[0m         \u001b[0mfull_backward_hooks\u001b[0m\u001b[0;34m,\u001b[0m \u001b[0mnon_full_backward_hooks\u001b[0m \u001b[0;34m=\u001b[0m \u001b[0;34m[\u001b[0m\u001b[0;34m]\u001b[0m\u001b[0;34m,\u001b[0m \u001b[0;34m[\u001b[0m\u001b[0;34m]\u001b[0m\u001b[0;34m\u001b[0m\u001b[0;34m\u001b[0m\u001b[0m\n",
      "\u001b[0;32m~/Library/Python/3.7/lib/python/site-packages/torch/nn/modules/linear.py\u001b[0m in \u001b[0;36mforward\u001b[0;34m(self, input)\u001b[0m\n\u001b[1;32m    112\u001b[0m \u001b[0;34m\u001b[0m\u001b[0m\n\u001b[1;32m    113\u001b[0m     \u001b[0;32mdef\u001b[0m \u001b[0mforward\u001b[0m\u001b[0;34m(\u001b[0m\u001b[0mself\u001b[0m\u001b[0;34m,\u001b[0m \u001b[0minput\u001b[0m\u001b[0;34m:\u001b[0m \u001b[0mTensor\u001b[0m\u001b[0;34m)\u001b[0m \u001b[0;34m->\u001b[0m \u001b[0mTensor\u001b[0m\u001b[0;34m:\u001b[0m\u001b[0;34m\u001b[0m\u001b[0;34m\u001b[0m\u001b[0m\n\u001b[0;32m--> 114\u001b[0;31m         \u001b[0;32mreturn\u001b[0m \u001b[0mF\u001b[0m\u001b[0;34m.\u001b[0m\u001b[0mlinear\u001b[0m\u001b[0;34m(\u001b[0m\u001b[0minput\u001b[0m\u001b[0;34m,\u001b[0m \u001b[0mself\u001b[0m\u001b[0;34m.\u001b[0m\u001b[0mweight\u001b[0m\u001b[0;34m,\u001b[0m \u001b[0mself\u001b[0m\u001b[0;34m.\u001b[0m\u001b[0mbias\u001b[0m\u001b[0;34m)\u001b[0m\u001b[0;34m\u001b[0m\u001b[0;34m\u001b[0m\u001b[0m\n\u001b[0m\u001b[1;32m    115\u001b[0m \u001b[0;34m\u001b[0m\u001b[0m\n\u001b[1;32m    116\u001b[0m     \u001b[0;32mdef\u001b[0m \u001b[0mextra_repr\u001b[0m\u001b[0;34m(\u001b[0m\u001b[0mself\u001b[0m\u001b[0;34m)\u001b[0m \u001b[0;34m->\u001b[0m \u001b[0mstr\u001b[0m\u001b[0;34m:\u001b[0m\u001b[0;34m\u001b[0m\u001b[0;34m\u001b[0m\u001b[0m\n",
      "\u001b[0;31mRuntimeError\u001b[0m: mat1 and mat2 shapes cannot be multiplied (2x3 and 1x2)"
     ]
    }
   ],
   "source": [
    "model.update_node_embedding_without_attention(prev_embedding, u_event=u_event, u_neighborhood=u_neighborhood, time_delta_it=time_delta_it)"
   ]
  }
 ],
 "metadata": {
  "kernelspec": {
   "display_name": "Python 3",
   "language": "python",
   "name": "python3"
  },
  "language_info": {
   "codemirror_mode": {
    "name": "ipython",
    "version": 3
   },
   "file_extension": ".py",
   "mimetype": "text/x-python",
   "name": "python",
   "nbconvert_exporter": "python",
   "pygments_lexer": "ipython3",
   "version": "3.7.4"
  }
 },
 "nbformat": 4,
 "nbformat_minor": 2
}
