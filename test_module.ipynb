{
 "cells": [
  {
   "cell_type": "code",
   "execution_count": 1,
   "metadata": {},
   "outputs": [
    {
     "name": "stdout",
     "output_type": "stream",
     "text": [
      "Requirement already satisfied: torch in /Library/Frameworks/Python.framework/Versions/3.11/lib/python3.11/site-packages (2.2.2)\n",
      "Requirement already satisfied: torchvision in /Library/Frameworks/Python.framework/Versions/3.11/lib/python3.11/site-packages (0.17.2)\n",
      "Requirement already satisfied: torchaudio in /Library/Frameworks/Python.framework/Versions/3.11/lib/python3.11/site-packages (2.2.2)\n",
      "Requirement already satisfied: filelock in /Library/Frameworks/Python.framework/Versions/3.11/lib/python3.11/site-packages (from torch) (3.14.0)\n",
      "Requirement already satisfied: typing-extensions>=4.8.0 in /Library/Frameworks/Python.framework/Versions/3.11/lib/python3.11/site-packages (from torch) (4.11.0)\n",
      "Requirement already satisfied: sympy in /Library/Frameworks/Python.framework/Versions/3.11/lib/python3.11/site-packages (from torch) (1.12)\n",
      "Requirement already satisfied: networkx in /Library/Frameworks/Python.framework/Versions/3.11/lib/python3.11/site-packages (from torch) (3.3)\n",
      "Requirement already satisfied: jinja2 in /Library/Frameworks/Python.framework/Versions/3.11/lib/python3.11/site-packages (from torch) (3.1.4)\n",
      "Requirement already satisfied: fsspec in /Library/Frameworks/Python.framework/Versions/3.11/lib/python3.11/site-packages (from torch) (2024.5.0)\n",
      "Requirement already satisfied: numpy in /Library/Frameworks/Python.framework/Versions/3.11/lib/python3.11/site-packages (from torchvision) (1.26.4)\n",
      "Requirement already satisfied: pillow!=8.3.*,>=5.3.0 in /Library/Frameworks/Python.framework/Versions/3.11/lib/python3.11/site-packages (from torchvision) (9.5.0)\n",
      "Requirement already satisfied: MarkupSafe>=2.0 in /Library/Frameworks/Python.framework/Versions/3.11/lib/python3.11/site-packages (from jinja2->torch) (2.1.5)\n",
      "Requirement already satisfied: mpmath>=0.19 in /Library/Frameworks/Python.framework/Versions/3.11/lib/python3.11/site-packages (from sympy->torch) (1.3.0)\n"
     ]
    }
   ],
   "source": [
    "!pip3 install torch torchvision torchaudio"
   ]
  },
  {
   "cell_type": "code",
   "execution_count": 49,
   "metadata": {},
   "outputs": [],
   "source": [
    "import numpy as np\n",
    "import torch\n",
    "from datetime import datetime, timedelta\n",
    "from torch.nn import Linear, ModuleList, Parameter\n",
    "from earthquake_data_loader import EarthquakeDataset\n",
    "from torch.utils.data import DataLoader\n",
    "from train_eval_main_node import get_return_time\n",
    "import copy\n",
    "import importlib\n",
    "import time\n",
    "import torch.optim as optim\n",
    "import torch.optim.lr_scheduler as lr_scheduler\n",
    "from tqdm import tqdm\n",
    "from sklearn.metrics import average_precision_score, roc_auc_score\n",
    "from utils import *\n",
    "from collections import defaultdict\n",
    "rnd = np.random.RandomState(42)"
   ]
  },
  {
   "cell_type": "code",
   "execution_count": 51,
   "metadata": {},
   "outputs": [
    {
     "name": "stdout",
     "output_type": "stream",
     "text": [
      "\n",
      "A_initial 3478.0\n"
     ]
    },
    {
     "ename": "AttributeError",
     "evalue": "'numpy.float64' object has no attribute 'timestamp'",
     "output_type": "error",
     "traceback": [
      "\u001b[0;31m---------------------------------------------------------------------------\u001b[0m",
      "\u001b[0;31mAttributeError\u001b[0m                            Traceback (most recent call last)",
      "\u001b[0;32m<ipython-input-51-1830d907da4d>\u001b[0m in \u001b[0;36m<module>\u001b[0;34m\u001b[0m\n\u001b[1;32m     14\u001b[0m \u001b[0mdic\u001b[0m \u001b[0;34m=\u001b[0m \u001b[0mdefaultdict\u001b[0m\u001b[0;34m(\u001b[0m\u001b[0mlist\u001b[0m\u001b[0;34m)\u001b[0m\u001b[0;34m\u001b[0m\u001b[0;34m\u001b[0m\u001b[0m\n\u001b[1;32m     15\u001b[0m \u001b[0;32mfor\u001b[0m \u001b[0msrc\u001b[0m\u001b[0;34m,\u001b[0m \u001b[0mdst\u001b[0m\u001b[0;34m,\u001b[0m \u001b[0m_\u001b[0m\u001b[0;34m,\u001b[0m \u001b[0mt\u001b[0m \u001b[0;32min\u001b[0m \u001b[0mtrain_data\u001b[0m\u001b[0;34m.\u001b[0m\u001b[0mall_events\u001b[0m\u001b[0;34m:\u001b[0m\u001b[0;34m\u001b[0m\u001b[0;34m\u001b[0m\u001b[0m\n\u001b[0;32m---> 16\u001b[0;31m     \u001b[0mdic\u001b[0m\u001b[0;34m[\u001b[0m\u001b[0msrc\u001b[0m\u001b[0;34m]\u001b[0m\u001b[0;34m.\u001b[0m\u001b[0mappend\u001b[0m\u001b[0;34m(\u001b[0m\u001b[0mt\u001b[0m\u001b[0;34m.\u001b[0m\u001b[0mtimestamp\u001b[0m\u001b[0;34m(\u001b[0m\u001b[0;34m)\u001b[0m\u001b[0;34m)\u001b[0m\u001b[0;34m\u001b[0m\u001b[0;34m\u001b[0m\u001b[0m\n\u001b[0m\u001b[1;32m     17\u001b[0m     \u001b[0mdic\u001b[0m\u001b[0;34m[\u001b[0m\u001b[0mdst\u001b[0m\u001b[0;34m]\u001b[0m\u001b[0;34m.\u001b[0m\u001b[0mappend\u001b[0m\u001b[0;34m(\u001b[0m\u001b[0mt\u001b[0m\u001b[0;34m.\u001b[0m\u001b[0mtimestamp\u001b[0m\u001b[0;34m(\u001b[0m\u001b[0;34m)\u001b[0m\u001b[0;34m)\u001b[0m\u001b[0;34m\u001b[0m\u001b[0;34m\u001b[0m\u001b[0m\n\u001b[1;32m     18\u001b[0m \u001b[0mall_diff\u001b[0m \u001b[0;34m=\u001b[0m \u001b[0;34m[\u001b[0m\u001b[0;34m]\u001b[0m\u001b[0;34m\u001b[0m\u001b[0;34m\u001b[0m\u001b[0m\n",
      "\u001b[0;31mAttributeError\u001b[0m: 'numpy.float64' object has no attribute 'timestamp'"
     ]
    }
   ],
   "source": [
    "# dyrep_node_Hawkes 모듈을 다시 로드합니다.\n",
    "import dyrep_node_Hawkes\n",
    "import data_loader\n",
    "importlib.reload(data_loader)\n",
    "importlib.reload(dyrep_node_Hawkes)\n",
    "from dyrep_node_Hawkes import DyRepNode\n",
    "from earthquake_data_loader import EarthquakeDataset\n",
    "\n",
    "\n",
    "train_data = EarthquakeDataset(\"train\")\n",
    "time_bar_initial = np.array([train_data.FIRST_DATE] * train_data.N_nodes)\n",
    "time_bar = copy.deepcopy(time_bar_initial)\n",
    "train_loader = DataLoader(train_data,batch_size=10, shuffle=False)\n",
    "dic = defaultdict(list)\n",
    "for src, dst, _, t in train_data.all_events:\n",
    "    dic[src].append(t.timestamp())\n",
    "    dic[dst].append(t.timestamp())\n",
    "all_diff = []\n",
    "for k, v in dic.items():\n",
    "    ts = np.array(v)\n",
    "    td = np.diff(ts)\n",
    "    all_diff.append(td)\n",
    "all_diff = np.concatenate(all_diff)\n",
    "train_td_max = all_diff.max()\n",
    "end_date = train_data.END_DATE\n",
    "\n",
    "model= DyRepNode(num_nodes= 100,\n",
    "                  hidden_dim= 4,\n",
    "                  random_state= rnd, \n",
    "                  first_date=1, \n",
    "                  end_datetime=1, \n",
    "                  num_neg_samples= 2, \n",
    "                  num_time_samples = 5,\n",
    "                 device= 'cpu', all_comms=False, train_td_max=train_td_max)\n",
    "params_main = [param for param in model.parameters() if param.requires_grad]\n",
    "optimizer = optim.Adam(params_main, lr=0.0002, betas=(0.5, 0.999))\n",
    "scheduler = lr_scheduler.MultiStepLR(optimizer, [20], gamma=0.5)\n",
    "node_degree=np.zeros((100, 1))\n",
    "node_embeddings_initial= np.tile([0,0,0,0], (100, 1))\n",
    "\n",
    "A=train_data.get_Adjacency()\n",
    "node_degree = np.sum(A, axis=0)\n",
    "model.reset_state(node_embeddings_initial=np.tile([0,0,0,0], (100, 1)),\n",
    "                    A_initial=A,\n",
    "                    node_degree_initial=node_degree,\n",
    "                    time_bar=time_bar)\n",
    "model.train()\n",
    "train_loader.dataset.time_bar = time_bar\n",
    "start = time.time()\n",
    "total_loss = 0\n",
    "total_loss_lambda, total_loss_surv = 0, 0\n",
    "\n",
    "for batch_idx, data_batch in enumerate(tqdm(train_loader)):\n",
    "            # backprop 전에 기울기를 초기화\n",
    "            optimizer.zero_grad()\n",
    "            # 데이터 type 확정하고, gpu에 올려놓기\n",
    "            data_batch[1] = data_batch[1].float().to('cpu')\n",
    "            data_batch[2] = data_batch[2].float().to('cpu')\n",
    "            data_batch[3] = data_batch[3].float().to('cpu')# no need of GPU\n",
    "            \n",
    "            # 모델 forward 돌리고 역전파 생성\n",
    "            # 단순히 log(pos)- neg 형태의 기울기 반영\n",
    "            output = model(data_batch)\n",
    "            losses = [-torch.sum(torch.log(output[0]) + 1e-10), torch.sum(output[1])]\n",
    "            loss = torch.sum(torch.stack(losses))/args.batch_size\n",
    "            loss.backward()"
   ]
  }
 ],
 "metadata": {
  "kernelspec": {
   "display_name": "Python 3",
   "language": "python",
   "name": "python3"
  },
  "language_info": {
   "codemirror_mode": {
    "name": "ipython",
    "version": 3
   },
   "file_extension": ".py",
   "mimetype": "text/x-python",
   "name": "python",
   "nbconvert_exporter": "python",
   "pygments_lexer": "ipython3",
   "version": "3.7.4"
  }
 },
 "nbformat": 4,
 "nbformat_minor": 2
}
