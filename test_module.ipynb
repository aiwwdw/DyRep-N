{
 "cells": [
  {
   "cell_type": "code",
   "execution_count": 20,
   "metadata": {},
   "outputs": [],
   "source": [
    "import numpy as np\n",
    "import torch\n",
    "from datetime import datetime, timedelta\n",
    "from torch.nn import Linear, ModuleList, Parameter\n",
    "from dyrep_node_Hawkes import DyRepNode"
   ]
  },
  {
   "cell_type": "code",
   "execution_count": 22,
   "metadata": {},
   "outputs": [],
   "source": [
    "rnd = np.random.RandomState(42)\n",
    "model1= DyRepNode(num_nodes= 4, \n",
    "                  hidden_dim= 2, \n",
    "                  random_state= rnd, \n",
    "                  first_date=1, \n",
    "                  end_datetime=1, \n",
    "                  num_neg_samples= 2, \n",
    "                  num_time_samples = 5,\n",
    "                 device='cpu', all_comms=False, train_td_max=None)\n"
   ]
  },
  {
   "cell_type": "code",
   "execution_count": 23,
   "metadata": {},
   "outputs": [
    {
     "name": "stdout",
     "output_type": "stream",
     "text": [
      "w_t torch.Size([1]) tensor([0.5000])\n",
      "alpha torch.Size([1]) tensor([0.5000])\n",
      "psi torch.Size([1]) tensor([0.5000])\n",
      "omega.weight torch.Size([1, 2]) tensor([[ 0.5206, -0.5538]])\n",
      "omega.bias torch.Size([1]) tensor([0.5191])\n",
      "W_h.weight torch.Size([2, 2]) tensor([[-0.1358,  0.6934],\n",
      "        [-0.6190, -0.6382]])\n",
      "W_h.bias torch.Size([2]) tensor([-0.3202,  0.1341])\n",
      "W_event_to_neigh.weight torch.Size([2, 2]) tensor([[-0.4343, -0.3727],\n",
      "        [-0.1324, -0.3978]])\n",
      "W_event_to_neigh.bias torch.Size([2]) tensor([-0.5827, -0.4955])\n",
      "W_rec_event.weight torch.Size([2, 2]) tensor([[ 0.1638, -0.6388],\n",
      "        [ 0.2997,  0.5835]])\n",
      "W_rec_event.bias torch.Size([2]) tensor([-0.2839, -0.2384])\n",
      "W_rec_neigh.weight torch.Size([2, 2]) tensor([[-0.5674, -0.5742],\n",
      "        [ 0.4669,  0.1483]])\n",
      "W_rec_neigh.bias torch.Size([2]) tensor([ 0.6470, -0.3416])\n",
      "W_t.weight torch.Size([2, 4]) tensor([[-0.2926, -0.0436, -0.0085, -0.3629],\n",
      "        [-0.4958,  0.3651,  0.3907,  0.2285]])\n",
      "W_t.bias torch.Size([2]) tensor([-0.2686, -0.4703])\n"
     ]
    }
   ],
   "source": [
    "for name, param in model1.named_parameters():\n",
    "    print(name,param.shape,param.data)"
   ]
  },
  {
   "cell_type": "code",
   "execution_count": 24,
   "metadata": {},
   "outputs": [],
   "source": [
    "prev_embedding = [[1,1],[2,2],[3,3],[4,4]]\n",
    "prev_embedding=torch.Tensor(prev_embedding)\n",
    "time_delta_it =torch.Tensor([[2,3,1],[2,3,1],[2,3,1],[2,3,1]])\n",
    "u_neighborhood = [1,2]\n",
    "u_event = 0"
   ]
  },
  {
   "cell_type": "code",
   "execution_count": 16,
   "metadata": {},
   "outputs": [
    {
     "ename": "RuntimeError",
     "evalue": "shape '[2, 4]' is invalid for input of size 6",
     "output_type": "error",
     "traceback": [
      "\u001b[0;31m---------------------------------------------------------------------------\u001b[0m",
      "\u001b[0;31mRuntimeError\u001b[0m                              Traceback (most recent call last)",
      "\u001b[0;32m<ipython-input-16-f92b7bafe173>\u001b[0m in \u001b[0;36m<module>\u001b[0;34m\u001b[0m\n\u001b[0;32m----> 1\u001b[0;31m \u001b[0mmodel\u001b[0m\u001b[0;34m.\u001b[0m\u001b[0mupdate_node_embedding_without_attention\u001b[0m\u001b[0;34m(\u001b[0m\u001b[0mprev_embedding\u001b[0m\u001b[0;34m,\u001b[0m \u001b[0mu_event\u001b[0m\u001b[0;34m=\u001b[0m\u001b[0mu_event\u001b[0m\u001b[0;34m,\u001b[0m \u001b[0mu_neighborhood\u001b[0m\u001b[0;34m=\u001b[0m\u001b[0mu_neighborhood\u001b[0m\u001b[0;34m,\u001b[0m \u001b[0mtime_delta_it\u001b[0m\u001b[0;34m=\u001b[0m\u001b[0mtime_delta_it\u001b[0m\u001b[0;34m)\u001b[0m\u001b[0;34m\u001b[0m\u001b[0;34m\u001b[0m\u001b[0m\n\u001b[0m",
      "\u001b[0;32m~/Documents/GIthub/DyRep-N-1/dyrep_node_Hawkes.py\u001b[0m in \u001b[0;36mupdate_node_embedding_without_attention\u001b[0;34m(self, prev_embedding, u_event, u_neighborhood, time_delta_it)\u001b[0m\n\u001b[1;32m    335\u001b[0m         z_new[u_neighborhood] = torch.sigmoid(self.W_event_to_neigh(prev_embedding[u_event]) + \\\n\u001b[1;32m    336\u001b[0m                                   \u001b[0mself\u001b[0m\u001b[0;34m.\u001b[0m\u001b[0mW_rec_neigh\u001b[0m\u001b[0;34m(\u001b[0m\u001b[0mprev_embedding\u001b[0m\u001b[0;34m[\u001b[0m\u001b[0mu_neighborhood\u001b[0m\u001b[0;34m]\u001b[0m\u001b[0;34m)\u001b[0m \u001b[0;34m+\u001b[0m\u001b[0;31m \u001b[0m\u001b[0;31m\\\u001b[0m\u001b[0;34m\u001b[0m\u001b[0;34m\u001b[0m\u001b[0m\n\u001b[0;32m--> 337\u001b[0;31m                                   self.W_t(time_delta_it[u_neighborhood].view(len(u_neighborhood),4)))\n\u001b[0m\u001b[1;32m    338\u001b[0m \u001b[0;34m\u001b[0m\u001b[0m\n\u001b[1;32m    339\u001b[0m         \u001b[0;31m#event node에 대한 update\u001b[0m\u001b[0;34m\u001b[0m\u001b[0;34m\u001b[0m\u001b[0;34m\u001b[0m\u001b[0m\n",
      "\u001b[0;31mRuntimeError\u001b[0m: shape '[2, 4]' is invalid for input of size 6"
     ]
    }
   ],
   "source": [
    "model.update_node_embedding_without_attention(prev_embedding, u_event=u_event, u_neighborhood=u_neighborhood, time_delta_it=time_delta_it)"
   ]
  }
 ],
 "metadata": {
  "kernelspec": {
   "display_name": "Python 3",
   "language": "python",
   "name": "python3"
  },
  "language_info": {
   "codemirror_mode": {
    "name": "ipython",
    "version": 3
   },
   "file_extension": ".py",
   "mimetype": "text/x-python",
   "name": "python",
   "nbconvert_exporter": "python",
   "pygments_lexer": "ipython3",
   "version": "3.7.4"
  }
 },
 "nbformat": 4,
 "nbformat_minor": 2
}
